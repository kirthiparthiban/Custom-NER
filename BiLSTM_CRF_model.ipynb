{
 "cells": [
  {
   "cell_type": "markdown",
   "metadata": {
    "toc": true
   },
   "source": [
    "<h1>Table of Contents<span class=\"tocSkip\"></span></h1>\n",
    "<div class=\"toc\"><ul class=\"toc-item\"></ul></div>"
   ]
  },
  {
   "cell_type": "code",
   "execution_count": 1,
   "metadata": {},
   "outputs": [
    {
     "name": "stderr",
     "output_type": "stream",
     "text": [
      "Using TensorFlow backend.\n"
     ]
    }
   ],
   "source": [
    "import pandas as pd\n",
    "import numpy as np\n",
    "\n",
    "from keras.preprocessing.sequence import pad_sequences\n",
    "from keras.utils import to_categorical\n",
    "from keras.layers import LSTM, Dense, TimeDistributed, Embedding, Bidirectional\n",
    "from keras.models import Model, Input, Sequential\n",
    "from keras_contrib.layers import CRF\n",
    "from keras.callbacks import ModelCheckpoint\n",
    "#from crf import CRFLayer\n",
    "import warnings\n",
    "warnings.filterwarnings(\"ignore\")\n",
    "\n",
    "from sklearn.model_selection import train_test_split\n",
    "import matplotlib.pyplot as plt\n",
    "%matplotlib inline\n",
    "\n",
    "from sklearn_crfsuite.metrics import flat_classification_report\n",
    "from sklearn.metrics import f1_score\n",
    "from seqeval.metrics import precision_score, recall_score, f1_score, classification_report\n",
    "from keras.preprocessing.text import text_to_word_sequence\n",
    "import pickle"
   ]
  },
  {
   "cell_type": "code",
   "execution_count": 2,
   "metadata": {},
   "outputs": [
    {
     "data": {
      "text/html": [
       "<div>\n",
       "<style scoped>\n",
       "    .dataframe tbody tr th:only-of-type {\n",
       "        vertical-align: middle;\n",
       "    }\n",
       "\n",
       "    .dataframe tbody tr th {\n",
       "        vertical-align: top;\n",
       "    }\n",
       "\n",
       "    .dataframe thead th {\n",
       "        text-align: right;\n",
       "    }\n",
       "</style>\n",
       "<table border=\"1\" class=\"dataframe\">\n",
       "  <thead>\n",
       "    <tr style=\"text-align: right;\">\n",
       "      <th></th>\n",
       "      <th>sent_no</th>\n",
       "      <th>words</th>\n",
       "      <th>pos_tag</th>\n",
       "      <th>label</th>\n",
       "    </tr>\n",
       "  </thead>\n",
       "  <tbody>\n",
       "    <tr>\n",
       "      <td>0</td>\n",
       "      <td>sentence1</td>\n",
       "      <td>The</td>\n",
       "      <td>DT</td>\n",
       "      <td>O</td>\n",
       "    </tr>\n",
       "    <tr>\n",
       "      <td>1</td>\n",
       "      <td>sentence1</td>\n",
       "      <td>patient</td>\n",
       "      <td>NN</td>\n",
       "      <td>O</td>\n",
       "    </tr>\n",
       "    <tr>\n",
       "      <td>2</td>\n",
       "      <td>sentence1</td>\n",
       "      <td>32yearold</td>\n",
       "      <td>CD</td>\n",
       "      <td>AGE</td>\n",
       "    </tr>\n",
       "    <tr>\n",
       "      <td>3</td>\n",
       "      <td>sentence1</td>\n",
       "      <td>man</td>\n",
       "      <td>NN</td>\n",
       "      <td>GEND</td>\n",
       "    </tr>\n",
       "    <tr>\n",
       "      <td>4</td>\n",
       "      <td>sentence1</td>\n",
       "      <td>history</td>\n",
       "      <td>NN</td>\n",
       "      <td>O</td>\n",
       "    </tr>\n",
       "  </tbody>\n",
       "</table>\n",
       "</div>"
      ],
      "text/plain": [
       "     sent_no      words pos_tag label\n",
       "0  sentence1        The      DT     O\n",
       "1  sentence1    patient      NN     O\n",
       "2  sentence1  32yearold      CD   AGE\n",
       "3  sentence1        man      NN  GEND\n",
       "4  sentence1    history      NN     O"
      ]
     },
     "execution_count": 2,
     "metadata": {},
     "output_type": "execute_result"
    }
   ],
   "source": [
    "df = pd.read_csv(\"C:/Users/kiruthika.parthiban/Desktop/EHR/Train_data_original.csv\",encoding = \"ISO-8859-1\")\n",
    "df.head()"
   ]
  },
  {
   "cell_type": "code",
   "execution_count": 3,
   "metadata": {},
   "outputs": [
    {
     "data": {
      "text/html": [
       "<div>\n",
       "<style scoped>\n",
       "    .dataframe tbody tr th:only-of-type {\n",
       "        vertical-align: middle;\n",
       "    }\n",
       "\n",
       "    .dataframe tbody tr th {\n",
       "        vertical-align: top;\n",
       "    }\n",
       "\n",
       "    .dataframe thead th {\n",
       "        text-align: right;\n",
       "    }\n",
       "</style>\n",
       "<table border=\"1\" class=\"dataframe\">\n",
       "  <thead>\n",
       "    <tr style=\"text-align: right;\">\n",
       "      <th></th>\n",
       "      <th>sent_no</th>\n",
       "      <th>words</th>\n",
       "      <th>pos_tag</th>\n",
       "      <th>label</th>\n",
       "    </tr>\n",
       "  </thead>\n",
       "  <tbody>\n",
       "    <tr>\n",
       "      <td>count</td>\n",
       "      <td>13639</td>\n",
       "      <td>13639</td>\n",
       "      <td>13639</td>\n",
       "      <td>13639</td>\n",
       "    </tr>\n",
       "    <tr>\n",
       "      <td>unique</td>\n",
       "      <td>1291</td>\n",
       "      <td>3686</td>\n",
       "      <td>26</td>\n",
       "      <td>32</td>\n",
       "    </tr>\n",
       "    <tr>\n",
       "      <td>top</td>\n",
       "      <td>sentence689</td>\n",
       "      <td>patient</td>\n",
       "      <td>NN</td>\n",
       "      <td>O</td>\n",
       "    </tr>\n",
       "    <tr>\n",
       "      <td>freq</td>\n",
       "      <td>62</td>\n",
       "      <td>284</td>\n",
       "      <td>4102</td>\n",
       "      <td>12093</td>\n",
       "    </tr>\n",
       "  </tbody>\n",
       "</table>\n",
       "</div>"
      ],
      "text/plain": [
       "            sent_no    words pos_tag  label\n",
       "count         13639    13639   13639  13639\n",
       "unique         1291     3686      26     32\n",
       "top     sentence689  patient      NN      O\n",
       "freq             62      284    4102  12093"
      ]
     },
     "execution_count": 3,
     "metadata": {},
     "output_type": "execute_result"
    }
   ],
   "source": [
    "df.describe()"
   ]
  },
  {
   "cell_type": "code",
   "execution_count": 4,
   "metadata": {},
   "outputs": [
    {
     "data": {
      "text/plain": [
       "array(['O', 'AGE', 'GEND', 'B-D', 'I-D', 'E-D', 'O-D', 'B-R', 'I-R',\n",
       "       'E-R', 'B-S', 'I-S', 'O-S', 'E-S', 'B-AGE', 'E-AGE', 'O-R', 'S',\n",
       "       'D', 'B-N', 'I-N', 'O-N', 'B-TIME', 'I-TIME', 'E-TIME', 'O-TIME',\n",
       "       'I-AGE', 'M', 'R', 'E-N', 'O-AGE', 'B-Age'], dtype=object)"
      ]
     },
     "execution_count": 4,
     "metadata": {},
     "output_type": "execute_result"
    }
   ],
   "source": [
    "#Displaying the unique Tags\n",
    "df['label'].unique()"
   ]
  },
  {
   "cell_type": "code",
   "execution_count": 5,
   "metadata": {},
   "outputs": [
    {
     "data": {
      "text/plain": [
       "sent_no    0\n",
       "words      0\n",
       "pos_tag    0\n",
       "label      0\n",
       "dtype: int64"
      ]
     },
     "execution_count": 5,
     "metadata": {},
     "output_type": "execute_result"
    }
   ],
   "source": [
    "#Checking null values, if any.\n",
    "df.isnull().sum()"
   ]
  },
  {
   "cell_type": "code",
   "execution_count": 6,
   "metadata": {},
   "outputs": [],
   "source": [
    "# This is a class te get sentence. The each sentence will be list of tuples with its tag and pos.\n",
    "class sentence(object):\n",
    "    def __init__(self, df):\n",
    "        self.n_sent = 1\n",
    "        self.df = df\n",
    "        self.empty = False\n",
    "        agg = lambda s : [(w, p, t) for w, p, t in zip(s['words'].values.tolist(),\n",
    "                                                       s['pos_tag'].values.tolist(),\n",
    "                                                       s['label'].values.tolist())]\n",
    "        self.grouped = self.df.groupby(\"sent_no\").apply(agg)\n",
    "        self.sentences = [s for s in self.grouped]\n",
    "        \n",
    "    def get_text(self):\n",
    "        try:\n",
    "            s = self.grouped['sentence{}'.format(self.n_sent)]\n",
    "            self.n_sent +=1\n",
    "            return s\n",
    "        except:\n",
    "            return None"
   ]
  },
  {
   "cell_type": "code",
   "execution_count": 7,
   "metadata": {},
   "outputs": [
    {
     "data": {
      "text/plain": [
       "'The patient 32yearold man history fascioscapulohumeral muscular dystrophy chronic respiratory failure home bipap pressure support 18 PEEP 8 past 9 years 24 hours day past 2 years admitted 2130124 elective tracheostomy placement worsening nasal breakdown bipap nasal pillows'"
      ]
     },
     "execution_count": 7,
     "metadata": {},
     "output_type": "execute_result"
    }
   ],
   "source": [
    "#Displaying one full sentence\n",
    "getter = sentence(df)\n",
    "sentences = [\" \".join([s[0] for s in sent]) for sent in getter.sentences]\n",
    "sentences[0]"
   ]
  },
  {
   "cell_type": "code",
   "execution_count": 8,
   "metadata": {},
   "outputs": [
    {
     "name": "stdout",
     "output_type": "stream",
     "text": [
      "[('The', 'DT', 'O'), ('patient', 'NN', 'O'), ('32yearold', 'CD', 'AGE'), ('man', 'NN', 'GEND'), ('history', 'NN', 'O'), ('fascioscapulohumeral', 'JJ', 'B-D'), ('muscular', 'JJ', 'I-D'), ('dystrophy', 'NN', 'E-D'), ('chronic', 'JJ', 'B-D'), ('respiratory', 'NN', 'I-D'), ('failure', 'NN', 'O-D'), ('home', 'NN', 'O'), ('bipap', 'NN', 'B-R'), ('pressure', 'NN', 'I-R'), ('support', 'NN', 'E-R'), ('18', 'CD', 'O'), ('PEEP', 'NNP', 'O'), ('8', 'CD', 'O'), ('past', 'IN', 'O'), ('9', 'CD', 'O'), ('years', 'NNS', 'O'), ('24', 'CD', 'O'), ('hours', 'NNS', 'O'), ('day', 'NN', 'O'), ('past', 'IN', 'O'), ('2', 'CD', 'O'), ('years', 'NNS', 'O'), ('admitted', 'VBD', 'O'), ('2130124', 'CD', 'O'), ('elective', 'JJ', 'B-S'), ('tracheostomy', 'NN', 'I-S'), ('placement', 'NN', 'O-S'), ('worsening', 'VBG', 'E-S'), ('nasal', 'JJ', 'B-S'), ('breakdown', 'JJ', 'I-S'), ('bipap', 'NN', 'O-S'), ('nasal', 'NN', 'B-S'), ('pillows', 'NNS', 'E-S')]\n"
     ]
    }
   ],
   "source": [
    "#sentence with its pos and tag.\n",
    "sent = getter.get_text()\n",
    "print(sent)"
   ]
  },
  {
   "cell_type": "code",
   "execution_count": 9,
   "metadata": {},
   "outputs": [],
   "source": [
    "sentences = getter.sentences"
   ]
  },
  {
   "cell_type": "code",
   "execution_count": 10,
   "metadata": {},
   "outputs": [],
   "source": [
    "# Number of data points passed in each iteration\n",
    "batch_size = 64 \n",
    "# Passes through entire dataset\n",
    "epochs = 8\n",
    "# Maximum length of review\n",
    "max_len = 150 \n",
    "# Dimension of embedding vector\n",
    "embedding = 40 "
   ]
  },
  {
   "cell_type": "code",
   "execution_count": 11,
   "metadata": {},
   "outputs": [],
   "source": [
    "#Getting unique words and labels from data\n",
    "words = list(df['words'].unique())\n",
    "tags = list(df['label'].unique())\n",
    "# Dictionary word:index pair\n",
    "# word is key and its value is corresponding index\n",
    "word_to_index = {w : i + 2 for i, w in enumerate(words)}\n",
    "word_to_index[\"UNK\"] = 1\n",
    "word_to_index[\"PAD\"] = 0\n",
    "\n",
    "# Dictionary lable:index pair\n",
    "# label is key and value is index.\n",
    "tag_to_index = {t : i + 1 for i, t in enumerate(tags)}\n",
    "tag_to_index[\"PAD\"] = 0\n",
    "\n",
    "idx2word = {i: w for w, i in word_to_index.items()}\n",
    "idx2tag = {i: w for w, i in tag_to_index.items()}"
   ]
  },
  {
   "cell_type": "code",
   "execution_count": 12,
   "metadata": {},
   "outputs": [
    {
     "name": "stdout",
     "output_type": "stream",
     "text": [
      "The word Patient is identified by the index: 57\n",
      "The label B-D for the disease is identified by the index: 4\n"
     ]
    }
   ],
   "source": [
    "print(\"The word Patient is identified by the index: {}\".format(word_to_index[\"Patient\"]))\n",
    "print(\"The label B-D for the disease is identified by the index: {}\".format(tag_to_index[\"B-D\"]))"
   ]
  },
  {
   "cell_type": "code",
   "execution_count": 13,
   "metadata": {},
   "outputs": [],
   "source": [
    "# Converting each sentence into list of index from list of tokens\n",
    "X = [[word_to_index[w[0]] for w in s] for s in sentences]\n",
    "\n",
    "# Padding each sequence to have same length  of each word\n",
    "X = pad_sequences(maxlen = max_len, sequences = X, padding = \"post\", value = word_to_index[\"PAD\"])"
   ]
  },
  {
   "cell_type": "code",
   "execution_count": 14,
   "metadata": {},
   "outputs": [],
   "source": [
    "# Convert label to index\n",
    "y = [[tag_to_index[w[2]] for w in s] for s in sentences]\n",
    "\n",
    "# padding\n",
    "y = pad_sequences(maxlen = max_len, sequences = y, padding = \"post\", value = tag_to_index[\"PAD\"])"
   ]
  },
  {
   "cell_type": "code",
   "execution_count": 15,
   "metadata": {},
   "outputs": [],
   "source": [
    "num_tag = df['label'].nunique()\n",
    "# One hot encoded labels\n",
    "y = [to_categorical(i, num_classes = num_tag + 1) for i in y]"
   ]
  },
  {
   "cell_type": "code",
   "execution_count": null,
   "metadata": {},
   "outputs": [],
   "source": []
  },
  {
   "cell_type": "code",
   "execution_count": 16,
   "metadata": {},
   "outputs": [],
   "source": [
    "X_train, X_test, y_train, y_test = train_test_split(X, y, test_size = 0.15)"
   ]
  },
  {
   "cell_type": "code",
   "execution_count": 17,
   "metadata": {},
   "outputs": [
    {
     "name": "stdout",
     "output_type": "stream",
     "text": [
      "Size of training input data :  (1097, 150)\n",
      "Size of training output data :  (1097, 150, 33)\n",
      "Size of testing input data :  (194, 150)\n",
      "Size of testing output data :  (194, 150, 33)\n"
     ]
    }
   ],
   "source": [
    "print(\"Size of training input data : \", X_train.shape)\n",
    "print(\"Size of training output data : \", np.array(y_train).shape)\n",
    "print(\"Size of testing input data : \", X_test.shape)\n",
    "print(\"Size of testing output data : \", np.array(y_test).shape)"
   ]
  },
  {
   "cell_type": "code",
   "execution_count": 18,
   "metadata": {},
   "outputs": [
    {
     "name": "stdout",
     "output_type": "stream",
     "text": [
      "*****Before Processing first sentence : *****\n",
      " The patient 32yearold man history fascioscapulohumeral muscular dystrophy chronic respiratory failure home bipap pressure support 18 PEEP 8 past 9 years 24 hours day past 2 years admitted 2130124 elective tracheostomy placement worsening nasal breakdown bipap nasal pillows\n",
      "*****After Processing first sentence : *****\n",
      "  [ 2  3  4  5  6  7  8  9 10 11 12 13 14 15 16 17 18 19 20 21 22 23 24 25\n",
      " 20 26 22 27 28 29 30 31 32 33 34 14 33 35  0  0  0  0  0  0  0  0  0  0\n",
      "  0  0  0  0  0  0  0  0  0  0  0  0  0  0  0  0  0  0  0  0  0  0  0  0\n",
      "  0  0  0  0  0  0  0  0  0  0  0  0  0  0  0  0  0  0  0  0  0  0  0  0\n",
      "  0  0  0  0  0  0  0  0  0  0  0  0  0  0  0  0  0  0  0  0  0  0  0  0\n",
      "  0  0  0  0  0  0  0  0  0  0  0  0  0  0  0  0  0  0  0  0  0  0  0  0\n",
      "  0  0  0  0  0  0]\n"
     ]
    }
   ],
   "source": [
    "# Let's check the first sentence before and after processing.\n",
    "print('*****Before Processing first sentence : *****\\n', ' '.join([w[0] for w in sentences[0]]))\n",
    "print('*****After Processing first sentence : *****\\n ', X[0])"
   ]
  },
  {
   "cell_type": "code",
   "execution_count": 19,
   "metadata": {},
   "outputs": [
    {
     "name": "stdout",
     "output_type": "stream",
     "text": [
      "*****Before Processing first sentence : *****\n",
      " O O AGE GEND O B-D I-D E-D B-D I-D O-D O B-R I-R E-R O O O O O O O O O O O O O O B-S I-S O-S E-S B-S I-S O-S B-S E-S\n",
      "*****After Processing first sentence : *****\n",
      "  [[0. 1. 0. ... 0. 0. 0.]\n",
      " [0. 1. 0. ... 0. 0. 0.]\n",
      " [0. 0. 1. ... 0. 0. 0.]\n",
      " ...\n",
      " [1. 0. 0. ... 0. 0. 0.]\n",
      " [1. 0. 0. ... 0. 0. 0.]\n",
      " [1. 0. 0. ... 0. 0. 0.]]\n"
     ]
    }
   ],
   "source": [
    "# First label before and after processing.\n",
    "print('*****Before Processing first sentence : *****\\n', ' '.join([w[2] for w in sentences[0]]))\n",
    "print('*****After Processing first sentence : *****\\n ', y[0])"
   ]
  },
  {
   "cell_type": "markdown",
   "metadata": {},
   "source": [
    "Bidirectional LSTM-CRF Network"
   ]
  },
  {
   "cell_type": "code",
   "execution_count": 20,
   "metadata": {},
   "outputs": [
    {
     "name": "stdout",
     "output_type": "stream",
     "text": [
      "32\n"
     ]
    }
   ],
   "source": [
    "num_tags = df['label'].nunique()\n",
    "print(num_tags)"
   ]
  },
  {
   "cell_type": "code",
   "execution_count": 21,
   "metadata": {},
   "outputs": [
    {
     "name": "stdout",
     "output_type": "stream",
     "text": [
      "WARNING:tensorflow:From C:\\Users\\kiruthika.parthiban\\AppData\\Local\\Continuum\\anaconda3\\lib\\site-packages\\tensorflow\\python\\framework\\op_def_library.py:263: colocate_with (from tensorflow.python.framework.ops) is deprecated and will be removed in a future version.\n",
      "Instructions for updating:\n",
      "Colocations handled automatically by placer.\n",
      "WARNING:tensorflow:From C:\\Users\\kiruthika.parthiban\\AppData\\Local\\Continuum\\anaconda3\\lib\\site-packages\\keras\\backend\\tensorflow_backend.py:3445: calling dropout (from tensorflow.python.ops.nn_ops) with keep_prob is deprecated and will be removed in a future version.\n",
      "Instructions for updating:\n",
      "Please use `rate` instead of `keep_prob`. Rate should be set to `rate = 1 - keep_prob`.\n",
      "_________________________________________________________________\n",
      "Layer (type)                 Output Shape              Param #   \n",
      "=================================================================\n",
      "input_1 (InputLayer)         (None, 150)               0         \n",
      "_________________________________________________________________\n",
      "embedding_1 (Embedding)      (None, 150, 40)           147520    \n",
      "_________________________________________________________________\n",
      "bidirectional_1 (Bidirection (None, 150, 100)          36400     \n",
      "_________________________________________________________________\n",
      "time_distributed_1 (TimeDist (None, 150, 50)           5050      \n",
      "_________________________________________________________________\n",
      "crf_1 (CRF)                  (None, 150, 33)           2838      \n",
      "=================================================================\n",
      "Total params: 191,808\n",
      "Trainable params: 191,808\n",
      "Non-trainable params: 0\n",
      "_________________________________________________________________\n"
     ]
    }
   ],
   "source": [
    "input = Input(shape = (max_len,))\n",
    "model = Embedding(input_dim = len(words) + 2, output_dim = embedding, input_length = max_len, mask_zero = True)(input)\n",
    "model = Bidirectional(LSTM(units = 50, return_sequences=True, recurrent_dropout=0.1))(model)\n",
    "model = TimeDistributed(Dense(50, activation=\"relu\"))(model)\n",
    "crf = CRF(num_tags+1)  # CRF layer\n",
    "out = crf(model)  # output\n",
    "\n",
    "model = Model(input, out)\n",
    "model.compile(optimizer=\"rmsprop\", loss=crf.loss_function, metrics=[crf.accuracy])\n",
    "\n",
    "model.summary()"
   ]
  },
  {
   "cell_type": "code",
   "execution_count": 22,
   "metadata": {},
   "outputs": [],
   "source": [
    "checkpointer = ModelCheckpoint(filepath = 'model.h5',\n",
    "                       verbose = 0,\n",
    "                       mode = 'auto',\n",
    "                       save_best_only = True,\n",
    "                       monitor='val_loss')"
   ]
  },
  {
   "cell_type": "code",
   "execution_count": 23,
   "metadata": {},
   "outputs": [
    {
     "name": "stdout",
     "output_type": "stream",
     "text": [
      "WARNING:tensorflow:From C:\\Users\\kiruthika.parthiban\\AppData\\Local\\Continuum\\anaconda3\\lib\\site-packages\\tensorflow\\python\\ops\\math_ops.py:3066: to_int32 (from tensorflow.python.ops.math_ops) is deprecated and will be removed in a future version.\n",
      "Instructions for updating:\n",
      "Use tf.cast instead.\n",
      "Train on 987 samples, validate on 110 samples\n",
      "Epoch 1/8\n",
      "987/987 [==============================] - ETA: 1:50 - loss: 64.9523 - crf_viterbi_accuracy: 0.007 - ETA: 56s - loss: 75.3146 - crf_viterbi_accuracy: 0.005 - ETA: 38s - loss: 72.5304 - crf_viterbi_accuracy: 0.00 - ETA: 29s - loss: 71.1823 - crf_viterbi_accuracy: 0.00 - ETA: 23s - loss: 70.9773 - crf_viterbi_accuracy: 0.01 - ETA: 18s - loss: 73.0270 - crf_viterbi_accuracy: 0.03 - ETA: 15s - loss: 71.7176 - crf_viterbi_accuracy: 0.06 - ETA: 12s - loss: 71.4692 - crf_viterbi_accuracy: 0.13 - ETA: 10s - loss: 71.1156 - crf_viterbi_accuracy: 0.20 - ETA: 8s - loss: 72.3394 - crf_viterbi_accuracy: 0.2662 - ETA: 6s - loss: 72.2154 - crf_viterbi_accuracy: 0.321 - ETA: 4s - loss: 70.8658 - crf_viterbi_accuracy: 0.368 - ETA: 3s - loss: 71.1695 - crf_viterbi_accuracy: 0.407 - ETA: 1s - loss: 70.9863 - crf_viterbi_accuracy: 0.443 - ETA: 0s - loss: 70.1473 - crf_viterbi_accuracy: 0.473 - 23s 23ms/step - loss: 69.8921 - crf_viterbi_accuracy: 0.4856 - val_loss: 82.2069 - val_crf_viterbi_accuracy: 0.8764\n",
      "Epoch 2/8\n",
      "987/987 [==============================] - ETA: 12s - loss: 71.0629 - crf_viterbi_accuracy: 0.91 - ETA: 12s - loss: 64.6415 - crf_viterbi_accuracy: 0.90 - ETA: 11s - loss: 66.1513 - crf_viterbi_accuracy: 0.88 - ETA: 10s - loss: 65.7710 - crf_viterbi_accuracy: 0.88 - ETA: 9s - loss: 68.6724 - crf_viterbi_accuracy: 0.8901 - ETA: 8s - loss: 67.6223 - crf_viterbi_accuracy: 0.893 - ETA: 7s - loss: 68.9304 - crf_viterbi_accuracy: 0.890 - ETA: 6s - loss: 67.4285 - crf_viterbi_accuracy: 0.891 - ETA: 5s - loss: 67.5740 - crf_viterbi_accuracy: 0.890 - ETA: 4s - loss: 66.7141 - crf_viterbi_accuracy: 0.887 - ETA: 3s - loss: 66.2733 - crf_viterbi_accuracy: 0.888 - ETA: 2s - loss: 66.7317 - crf_viterbi_accuracy: 0.885 - ETA: 2s - loss: 67.0039 - crf_viterbi_accuracy: 0.886 - ETA: 1s - loss: 67.3999 - crf_viterbi_accuracy: 0.887 - ETA: 0s - loss: 67.4953 - crf_viterbi_accuracy: 0.885 - 14s 15ms/step - loss: 68.1578 - crf_viterbi_accuracy: 0.8872 - val_loss: 81.6430 - val_crf_viterbi_accuracy: 0.8764\n",
      "Epoch 3/8\n",
      "987/987 [==============================] - ETA: 13s - loss: 63.8676 - crf_viterbi_accuracy: 0.86 - ETA: 11s - loss: 65.1157 - crf_viterbi_accuracy: 0.88 - ETA: 10s - loss: 68.3837 - crf_viterbi_accuracy: 0.86 - ETA: 9s - loss: 68.1265 - crf_viterbi_accuracy: 0.8706 - ETA: 8s - loss: 68.4452 - crf_viterbi_accuracy: 0.875 - ETA: 7s - loss: 66.6972 - crf_viterbi_accuracy: 0.873 - ETA: 7s - loss: 66.8967 - crf_viterbi_accuracy: 0.877 - ETA: 6s - loss: 67.6797 - crf_viterbi_accuracy: 0.880 - ETA: 5s - loss: 67.2353 - crf_viterbi_accuracy: 0.882 - ETA: 4s - loss: 66.6215 - crf_viterbi_accuracy: 0.884 - ETA: 3s - loss: 66.1284 - crf_viterbi_accuracy: 0.886 - ETA: 2s - loss: 65.6424 - crf_viterbi_accuracy: 0.887 - ETA: 2s - loss: 67.1317 - crf_viterbi_accuracy: 0.891 - ETA: 1s - loss: 67.8137 - crf_viterbi_accuracy: 0.891 - ETA: 0s - loss: 68.3512 - crf_viterbi_accuracy: 0.888 - 14s 14ms/step - loss: 67.8467 - crf_viterbi_accuracy: 0.8869 - val_loss: 81.5159 - val_crf_viterbi_accuracy: 0.8764\n",
      "Epoch 4/8\n",
      "987/987 [==============================] - ETA: 12s - loss: 71.1579 - crf_viterbi_accuracy: 0.92 - ETA: 11s - loss: 67.0028 - crf_viterbi_accuracy: 0.92 - ETA: 10s - loss: 67.2291 - crf_viterbi_accuracy: 0.91 - ETA: 10s - loss: 65.3162 - crf_viterbi_accuracy: 0.90 - ETA: 9s - loss: 64.1957 - crf_viterbi_accuracy: 0.8958 - ETA: 8s - loss: 64.8776 - crf_viterbi_accuracy: 0.890 - ETA: 7s - loss: 65.8901 - crf_viterbi_accuracy: 0.891 - ETA: 6s - loss: 66.0797 - crf_viterbi_accuracy: 0.891 - ETA: 5s - loss: 68.4625 - crf_viterbi_accuracy: 0.890 - ETA: 4s - loss: 67.8470 - crf_viterbi_accuracy: 0.888 - ETA: 3s - loss: 68.8025 - crf_viterbi_accuracy: 0.887 - ETA: 3s - loss: 68.2737 - crf_viterbi_accuracy: 0.886 - ETA: 2s - loss: 67.8583 - crf_viterbi_accuracy: 0.886 - ETA: 1s - loss: 67.6098 - crf_viterbi_accuracy: 0.887 - ETA: 0s - loss: 67.9145 - crf_viterbi_accuracy: 0.887 - 14s 14ms/step - loss: 67.7163 - crf_viterbi_accuracy: 0.8872 - val_loss: 81.4386 - val_crf_viterbi_accuracy: 0.8764\n",
      "Epoch 5/8\n",
      "987/987 [==============================] - ETA: 11s - loss: 63.6214 - crf_viterbi_accuracy: 0.86 - ETA: 11s - loss: 66.3405 - crf_viterbi_accuracy: 0.86 - ETA: 10s - loss: 66.7349 - crf_viterbi_accuracy: 0.88 - ETA: 9s - loss: 65.7125 - crf_viterbi_accuracy: 0.8877 - ETA: 8s - loss: 68.0723 - crf_viterbi_accuracy: 0.878 - ETA: 7s - loss: 67.9360 - crf_viterbi_accuracy: 0.871 - ETA: 7s - loss: 67.7473 - crf_viterbi_accuracy: 0.872 - ETA: 6s - loss: 67.6429 - crf_viterbi_accuracy: 0.877 - ETA: 5s - loss: 67.7382 - crf_viterbi_accuracy: 0.876 - ETA: 4s - loss: 68.0037 - crf_viterbi_accuracy: 0.878 - ETA: 3s - loss: 68.9195 - crf_viterbi_accuracy: 0.880 - ETA: 2s - loss: 69.3410 - crf_viterbi_accuracy: 0.883 - ETA: 2s - loss: 68.8382 - crf_viterbi_accuracy: 0.882 - ETA: 1s - loss: 68.8074 - crf_viterbi_accuracy: 0.884 - ETA: 0s - loss: 67.9667 - crf_viterbi_accuracy: 0.885 - 15s 15ms/step - loss: 67.6213 - crf_viterbi_accuracy: 0.8869 - val_loss: 81.3740 - val_crf_viterbi_accuracy: 0.8764\n",
      "Epoch 6/8\n",
      "987/987 [==============================] - ETA: 12s - loss: 60.6606 - crf_viterbi_accuracy: 0.88 - ETA: 11s - loss: 57.6453 - crf_viterbi_accuracy: 0.89 - ETA: 11s - loss: 59.8863 - crf_viterbi_accuracy: 0.90 - ETA: 10s - loss: 62.5454 - crf_viterbi_accuracy: 0.90 - ETA: 9s - loss: 65.6125 - crf_viterbi_accuracy: 0.9042 - ETA: 8s - loss: 67.3758 - crf_viterbi_accuracy: 0.905 - ETA: 7s - loss: 67.0001 - crf_viterbi_accuracy: 0.896 - ETA: 6s - loss: 66.2110 - crf_viterbi_accuracy: 0.893 - ETA: 5s - loss: 66.4707 - crf_viterbi_accuracy: 0.890 - ETA: 4s - loss: 65.5675 - crf_viterbi_accuracy: 0.889 - ETA: 3s - loss: 66.7856 - crf_viterbi_accuracy: 0.888 - ETA: 3s - loss: 66.7873 - crf_viterbi_accuracy: 0.885 - ETA: 2s - loss: 67.3216 - crf_viterbi_accuracy: 0.886 - ETA: 1s - loss: 67.5034 - crf_viterbi_accuracy: 0.888 - ETA: 0s - loss: 67.4869 - crf_viterbi_accuracy: 0.887 - 14s 14ms/step - loss: 67.5454 - crf_viterbi_accuracy: 0.8871 - val_loss: 81.3197 - val_crf_viterbi_accuracy: 0.8764\n",
      "Epoch 7/8\n",
      "987/987 [==============================] - ETA: 12s - loss: 73.5339 - crf_viterbi_accuracy: 0.85 - ETA: 11s - loss: 76.8822 - crf_viterbi_accuracy: 0.86 - ETA: 10s - loss: 72.2877 - crf_viterbi_accuracy: 0.86 - ETA: 9s - loss: 68.1513 - crf_viterbi_accuracy: 0.8745 - ETA: 8s - loss: 69.3631 - crf_viterbi_accuracy: 0.885 - ETA: 7s - loss: 69.5069 - crf_viterbi_accuracy: 0.883 - ETA: 6s - loss: 68.4381 - crf_viterbi_accuracy: 0.881 - ETA: 6s - loss: 67.8594 - crf_viterbi_accuracy: 0.884 - ETA: 5s - loss: 68.0109 - crf_viterbi_accuracy: 0.883 - ETA: 4s - loss: 67.6843 - crf_viterbi_accuracy: 0.880 - ETA: 3s - loss: 67.1001 - crf_viterbi_accuracy: 0.882 - ETA: 2s - loss: 66.2458 - crf_viterbi_accuracy: 0.885 - ETA: 2s - loss: 67.7582 - crf_viterbi_accuracy: 0.884 - ETA: 1s - loss: 66.8238 - crf_viterbi_accuracy: 0.884 - ETA: 0s - loss: 67.0545 - crf_viterbi_accuracy: 0.885 - 14s 14ms/step - loss: 67.4847 - crf_viterbi_accuracy: 0.8865 - val_loss: 81.2814 - val_crf_viterbi_accuracy: 0.8764\n",
      "Epoch 8/8\n",
      "987/987 [==============================] - ETA: 12s - loss: 64.7718 - crf_viterbi_accuracy: 0.86 - ETA: 12s - loss: 74.1890 - crf_viterbi_accuracy: 0.84 - ETA: 11s - loss: 72.3682 - crf_viterbi_accuracy: 0.86 - ETA: 10s - loss: 71.9352 - crf_viterbi_accuracy: 0.86 - ETA: 9s - loss: 70.3976 - crf_viterbi_accuracy: 0.8658 - ETA: 8s - loss: 70.6282 - crf_viterbi_accuracy: 0.873 - ETA: 7s - loss: 70.3052 - crf_viterbi_accuracy: 0.873 - ETA: 6s - loss: 69.6686 - crf_viterbi_accuracy: 0.877 - ETA: 5s - loss: 68.6726 - crf_viterbi_accuracy: 0.878 - ETA: 4s - loss: 68.2225 - crf_viterbi_accuracy: 0.881 - ETA: 3s - loss: 67.6415 - crf_viterbi_accuracy: 0.880 - ETA: 2s - loss: 67.4291 - crf_viterbi_accuracy: 0.882 - ETA: 2s - loss: 66.4481 - crf_viterbi_accuracy: 0.880 - ETA: 1s - loss: 66.2503 - crf_viterbi_accuracy: 0.884 - ETA: 0s - loss: 66.8140 - crf_viterbi_accuracy: 0.887 - 14s 14ms/step - loss: 67.4404 - crf_viterbi_accuracy: 0.8888 - val_loss: 81.2490 - val_crf_viterbi_accuracy: 0.8773\n"
     ]
    }
   ],
   "source": [
    "history = model.fit(X_train, np.array(y_train), batch_size=batch_size, epochs=epochs,\n",
    "                    validation_split=0.1, callbacks=[checkpointer])"
   ]
  },
  {
   "cell_type": "code",
   "execution_count": 28,
   "metadata": {},
   "outputs": [],
   "source": [
    "for layer in model.layers:\n",
    "    weights = layer.get_weights()"
   ]
  },
  {
   "cell_type": "code",
   "execution_count": 25,
   "metadata": {},
   "outputs": [
    {
     "data": {
      "text/plain": [
       "dict_keys(['val_loss', 'val_crf_viterbi_accuracy', 'loss', 'crf_viterbi_accuracy'])"
      ]
     },
     "execution_count": 25,
     "metadata": {},
     "output_type": "execute_result"
    }
   ],
   "source": [
    "history.history.keys()"
   ]
  },
  {
   "cell_type": "code",
   "execution_count": 26,
   "metadata": {},
   "outputs": [
    {
     "data": {
      "text/plain": [
       "<matplotlib.legend.Legend at 0x1ec82fc6948>"
      ]
     },
     "execution_count": 26,
     "metadata": {},
     "output_type": "execute_result"
    },
    {
     "data": {
      "image/png": "[encoded data removed]",
      "text/plain": [
       "<Figure size 576x576 with 1 Axes>"
      ]
     },
     "metadata": {
      "needs_background": "light"
     },
     "output_type": "display_data"
    }
   ],
   "source": [
    "acc = history.history['crf_viterbi_accuracy']\n",
    "val_acc = history.history['val_crf_viterbi_accuracy']\n",
    "loss = history.history['loss']\n",
    "val_loss = history.history['val_loss']\n",
    "plt.figure(figsize = (8, 8))\n",
    "epochs = range(1, len(acc) + 1)\n",
    "plt.plot(epochs, acc, 'bo', label='Training acc')\n",
    "plt.plot(epochs, val_acc, 'b', label='Validation acc')\n",
    "plt.title('Training and validation accuracy')\n",
    "plt.legend()"
   ]
  },
  {
   "cell_type": "code",
   "execution_count": 27,
   "metadata": {},
   "outputs": [
    {
     "data": {
      "image/png": "[encoded data removed]",
      "text/plain": [
       "<Figure size 576x576 with 1 Axes>"
      ]
     },
     "metadata": {
      "needs_background": "light"
     },
     "output_type": "display_data"
    }
   ],
   "source": [
    "plt.figure(figsize = (8, 8))\n",
    "plt.plot(epochs, loss, 'bo', label='Training loss')\n",
    "plt.plot(epochs, val_loss, 'b', label='Validation loss')\n",
    "plt.title('Training and validation loss')\n",
    "plt.legend()\n",
    "plt.show()"
   ]
  },
  {
   "cell_type": "code",
   "execution_count": 28,
   "metadata": {},
   "outputs": [],
   "source": [
    "# Evaluation\n",
    "y_pred = model.predict(X_test)\n",
    "y_pred = np.argmax(y_pred, axis=-1)\n",
    "y_test_true = np.argmax(y_test, -1)"
   ]
  },
  {
   "cell_type": "code",
   "execution_count": 29,
   "metadata": {
    "scrolled": true
   },
   "outputs": [],
   "source": [
    "# Convert the index to tag\n",
    "y_pred = [[idx2tag[i] for i in row] for row in y_pred]\n",
    "y_test_true = [[idx2tag[i] for i in row] for row in y_test_true] "
   ]
  },
  {
   "cell_type": "code",
   "execution_count": 30,
   "metadata": {},
   "outputs": [
    {
     "name": "stdout",
     "output_type": "stream",
     "text": [
      "F1-score is : 67.1%\n"
     ]
    }
   ],
   "source": [
    "print(\"F1-score is : {:.1%}\".format(f1_score(y_test_true, y_pred)))"
   ]
  },
  {
   "cell_type": "code",
   "execution_count": 31,
   "metadata": {},
   "outputs": [
    {
     "name": "stdout",
     "output_type": "stream",
     "text": [
      "              precision    recall  f1-score   support\n",
      "\n",
      "         AGE       0.00      0.00      0.00         2\n",
      "       B-AGE       0.00      0.00      0.00         1\n",
      "         B-D       0.00      0.00      0.00        14\n",
      "         B-N       0.00      0.00      0.00         5\n",
      "         B-S       0.00      0.00      0.00         3\n",
      "           D       0.00      0.00      0.00         4\n",
      "       E-AGE       0.00      0.00      0.00         2\n",
      "         E-D       0.00      0.00      0.00         5\n",
      "         E-N       0.00      0.00      0.00         3\n",
      "         E-S       0.00      0.00      0.00         2\n",
      "        GEND       0.00      0.00      0.00        12\n",
      "         I-D       0.00      0.00      0.00        10\n",
      "         I-N       0.00      0.00      0.00         2\n",
      "         I-S       0.00      0.00      0.00         2\n",
      "           M       0.00      0.00      0.00         8\n",
      "           O       0.89      1.00      0.94      1787\n",
      "       O-AGE       0.00      0.00      0.00         6\n",
      "         O-D       0.00      0.00      0.00         6\n",
      "         O-N       0.00      0.00      0.00         2\n",
      "         O-S       0.00      0.00      0.00         2\n",
      "         PAD       1.00      1.00      1.00     27085\n",
      "           S       0.75      0.02      0.04       137\n",
      "\n",
      "    accuracy                           0.99     29100\n",
      "   macro avg       0.12      0.09      0.09     29100\n",
      "weighted avg       0.99      0.99      0.99     29100\n",
      "\n"
     ]
    }
   ],
   "source": [
    "report = flat_classification_report(y_pred=y_pred, y_true=y_test_true)\n",
    "print(report)"
   ]
  },
  {
   "cell_type": "code",
   "execution_count": null,
   "metadata": {},
   "outputs": [],
   "source": []
  }
 ],
 "metadata": {
  "kernelspec": {
   "display_name": "Python 3",
   "language": "python",
   "name": "python3"
  },
  "language_info": {
   "codemirror_mode": {
    "name": "ipython",
    "version": 3
   },
   "file_extension": ".py",
   "mimetype": "text/x-python",
   "name": "python",
   "nbconvert_exporter": "python",
   "pygments_lexer": "ipython3",
   "version": "3.7.6"
  },
  "toc": {
   "base_numbering": 1,
   "nav_menu": {},
   "number_sections": true,
   "sideBar": true,
   "skip_h1_title": false,
   "title_cell": "Table of Contents",
   "title_sidebar": "Contents",
   "toc_cell": true,
   "toc_position": {},
   "toc_section_display": true,
   "toc_window_display": true
  }
 },
 "nbformat": 4,
 "nbformat_minor": 2
}
